{
 "cells": [
  {
   "cell_type": "code",
   "execution_count": 19,
   "id": "23cc8dbb",
   "metadata": {},
   "outputs": [],
   "source": [
    "import pandas as pd \n",
    "import matplotlib.pyplot as plt"
   ]
  },
  {
   "cell_type": "markdown",
   "id": "f21329ed",
   "metadata": {},
   "source": [
    "Leo un archivo que tiene: \n",
    "- indice_tiempo: fecha\n",
    "- salas: cantidad de salas cinemátrograficas\n",
    "- espectadores: cantidad de espectadores\n",
    "- espectadores: cantidad de espectadores por sala "
   ]
  },
  {
   "cell_type": "code",
   "execution_count": 2,
   "id": "ed80a6aa",
   "metadata": {},
   "outputs": [],
   "source": [
    "salas = pd.read_csv('salas-cine.csv')"
   ]
  },
  {
   "cell_type": "code",
   "execution_count": 25,
   "id": "8d4cbd16",
   "metadata": {},
   "outputs": [
    {
     "data": {
      "text/html": [
       "<div>\n",
       "<style scoped>\n",
       "    .dataframe tbody tr th:only-of-type {\n",
       "        vertical-align: middle;\n",
       "    }\n",
       "\n",
       "    .dataframe tbody tr th {\n",
       "        vertical-align: top;\n",
       "    }\n",
       "\n",
       "    .dataframe thead th {\n",
       "        text-align: right;\n",
       "    }\n",
       "</style>\n",
       "<table border=\"1\" class=\"dataframe\">\n",
       "  <thead>\n",
       "    <tr style=\"text-align: right;\">\n",
       "      <th></th>\n",
       "      <th>indice_tiempo</th>\n",
       "      <th>salas</th>\n",
       "      <th>espectadores</th>\n",
       "      <th>espectadores_sala</th>\n",
       "    </tr>\n",
       "  </thead>\n",
       "  <tbody>\n",
       "    <tr>\n",
       "      <th>0</th>\n",
       "      <td>2017</td>\n",
       "      <td>359.0</td>\n",
       "      <td>2329863.0</td>\n",
       "      <td>6489.868112</td>\n",
       "    </tr>\n",
       "    <tr>\n",
       "      <th>1</th>\n",
       "      <td>2017</td>\n",
       "      <td>359.0</td>\n",
       "      <td>2667173.0</td>\n",
       "      <td>7429.451504</td>\n",
       "    </tr>\n",
       "    <tr>\n",
       "      <th>2</th>\n",
       "      <td>2017</td>\n",
       "      <td>357.0</td>\n",
       "      <td>2234439.0</td>\n",
       "      <td>6258.931970</td>\n",
       "    </tr>\n",
       "    <tr>\n",
       "      <th>3</th>\n",
       "      <td>2017</td>\n",
       "      <td>357.0</td>\n",
       "      <td>2933938.0</td>\n",
       "      <td>8218.313957</td>\n",
       "    </tr>\n",
       "    <tr>\n",
       "      <th>4</th>\n",
       "      <td>2017</td>\n",
       "      <td>357.0</td>\n",
       "      <td>1768555.0</td>\n",
       "      <td>4953.935806</td>\n",
       "    </tr>\n",
       "  </tbody>\n",
       "</table>\n",
       "</div>"
      ],
      "text/plain": [
       "   indice_tiempo  salas  espectadores  espectadores_sala\n",
       "0           2017  359.0     2329863.0        6489.868112\n",
       "1           2017  359.0     2667173.0        7429.451504\n",
       "2           2017  357.0     2234439.0        6258.931970\n",
       "3           2017  357.0     2933938.0        8218.313957\n",
       "4           2017  357.0     1768555.0        4953.935806"
      ]
     },
     "execution_count": 25,
     "metadata": {},
     "output_type": "execute_result"
    }
   ],
   "source": [
    "salas.head()"
   ]
  },
  {
   "cell_type": "code",
   "execution_count": 5,
   "id": "5c125da0",
   "metadata": {},
   "outputs": [],
   "source": [
    "year = pd.DatetimeIndex(salas['indice_tiempo']).year"
   ]
  },
  {
   "cell_type": "code",
   "execution_count": 8,
   "id": "7a110316",
   "metadata": {},
   "outputs": [
    {
     "data": {
      "text/plain": [
       "Int64Index([2017, 2017, 2017, 2017, 2017, 2017, 2017, 2017, 2017, 2017, 2017,\n",
       "            2017, 2018, 2018, 2018, 2018, 2018, 2018, 2018, 2018, 2018, 2018,\n",
       "            2018, 2018, 2019, 2019, 2019, 2019, 2019, 2019, 2019, 2019, 2019,\n",
       "            2019, 2019, 2019, 2020, 2020, 2020, 2020, 2020, 2020, 2020, 2020,\n",
       "            2020, 2020, 2020, 2020, 2021, 2021, 2021, 2021, 2021, 2021, 2021,\n",
       "            2021, 2021, 2021],\n",
       "           dtype='int64', name='indice_tiempo')"
      ]
     },
     "execution_count": 8,
     "metadata": {},
     "output_type": "execute_result"
    }
   ],
   "source": [
    "year"
   ]
  },
  {
   "cell_type": "code",
   "execution_count": 9,
   "id": "ecf8c3a5",
   "metadata": {},
   "outputs": [],
   "source": [
    "salas['indice_tiempo'] = year "
   ]
  },
  {
   "cell_type": "code",
   "execution_count": 13,
   "id": "594f981d",
   "metadata": {},
   "outputs": [
    {
     "data": {
      "text/html": [
       "<div>\n",
       "<style scoped>\n",
       "    .dataframe tbody tr th:only-of-type {\n",
       "        vertical-align: middle;\n",
       "    }\n",
       "\n",
       "    .dataframe tbody tr th {\n",
       "        vertical-align: top;\n",
       "    }\n",
       "\n",
       "    .dataframe thead th {\n",
       "        text-align: right;\n",
       "    }\n",
       "</style>\n",
       "<table border=\"1\" class=\"dataframe\">\n",
       "  <thead>\n",
       "    <tr style=\"text-align: right;\">\n",
       "      <th></th>\n",
       "      <th>indice_tiempo</th>\n",
       "      <th>salas</th>\n",
       "      <th>espectadores</th>\n",
       "      <th>espectadores_sala</th>\n",
       "    </tr>\n",
       "  </thead>\n",
       "  <tbody>\n",
       "    <tr>\n",
       "      <th>0</th>\n",
       "      <td>2017</td>\n",
       "      <td>359.0</td>\n",
       "      <td>2329863.0</td>\n",
       "      <td>6489.868112</td>\n",
       "    </tr>\n",
       "    <tr>\n",
       "      <th>1</th>\n",
       "      <td>2017</td>\n",
       "      <td>359.0</td>\n",
       "      <td>2667173.0</td>\n",
       "      <td>7429.451504</td>\n",
       "    </tr>\n",
       "    <tr>\n",
       "      <th>2</th>\n",
       "      <td>2017</td>\n",
       "      <td>357.0</td>\n",
       "      <td>2234439.0</td>\n",
       "      <td>6258.931970</td>\n",
       "    </tr>\n",
       "    <tr>\n",
       "      <th>3</th>\n",
       "      <td>2017</td>\n",
       "      <td>357.0</td>\n",
       "      <td>2933938.0</td>\n",
       "      <td>8218.313957</td>\n",
       "    </tr>\n",
       "    <tr>\n",
       "      <th>4</th>\n",
       "      <td>2017</td>\n",
       "      <td>357.0</td>\n",
       "      <td>1768555.0</td>\n",
       "      <td>4953.935806</td>\n",
       "    </tr>\n",
       "  </tbody>\n",
       "</table>\n",
       "</div>"
      ],
      "text/plain": [
       "   indice_tiempo  salas  espectadores  espectadores_sala\n",
       "0           2017  359.0     2329863.0        6489.868112\n",
       "1           2017  359.0     2667173.0        7429.451504\n",
       "2           2017  357.0     2234439.0        6258.931970\n",
       "3           2017  357.0     2933938.0        8218.313957\n",
       "4           2017  357.0     1768555.0        4953.935806"
      ]
     },
     "execution_count": 13,
     "metadata": {},
     "output_type": "execute_result"
    }
   ],
   "source": [
    "salas.head()"
   ]
  },
  {
   "cell_type": "code",
   "execution_count": 22,
   "id": "c67b44d9",
   "metadata": {},
   "outputs": [
    {
     "data": {
      "text/plain": [
       "Text(0, 0.5, 'Cantidad de espectadores')"
      ]
     },
     "execution_count": 22,
     "metadata": {},
     "output_type": "execute_result"
    },
    {
     "data": {
      "image/png": "[encoded data removed]",
      "text/plain": [
       "<Figure size 432x288 with 1 Axes>"
      ]
     },
     "metadata": {
      "needs_background": "light"
     },
     "output_type": "display_data"
    }
   ],
   "source": [
    "salas.groupby(['indice_tiempo'])['espectadores'].mean().plot(kind='bar')\n",
    "plt.ylabel(\"Cantidad de espectadores\")"
   ]
  },
  {
   "cell_type": "code",
   "execution_count": 23,
   "id": "1ef32057",
   "metadata": {},
   "outputs": [
    {
     "data": {
      "text/plain": [
       "Text(0, 0.5, 'Cantidad de espectadores')"
      ]
     },
     "execution_count": 23,
     "metadata": {},
     "output_type": "execute_result"
    },
    {
     "data": {
      "image/png": "[encoded data removed]",
      "text/plain": [
       "<Figure size 432x288 with 1 Axes>"
      ]
     },
     "metadata": {
      "needs_background": "light"
     },
     "output_type": "display_data"
    }
   ],
   "source": [
    "salas.groupby(['indice_tiempo'])['espectadores_sala'].mean().plot(kind='bar')\n",
    "plt.ylabel(\"Cantidad de espectadores\")"
   ]
  },
  {
   "cell_type": "markdown",
   "id": "54a24277",
   "metadata": {},
   "source": [
    "Un dato es que la cantidad de espectadores por sala no se registró en 2021"
   ]
  },
  {
   "cell_type": "code",
   "execution_count": null,
   "id": "2747e332",
   "metadata": {},
   "outputs": [],
   "source": []
  }
 ],
 "metadata": {
  "kernelspec": {
   "display_name": "Python 3 (ipykernel)",
   "language": "python",
   "name": "python3"
  },
  "language_info": {
   "codemirror_mode": {
    "name": "ipython",
    "version": 3
   },
   "file_extension": ".py",
   "mimetype": "text/x-python",
   "name": "python",
   "nbconvert_exporter": "python",
   "pygments_lexer": "ipython3",
   "version": "3.8.12"
  }
 },
 "nbformat": 4,
 "nbformat_minor": 5
}
