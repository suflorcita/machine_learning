{
 "cells": [
  {
   "attachments": {},
   "cell_type": "markdown",
   "id": "88861778",
   "metadata": {},
   "source": [
    "### Perceptron Algorithm \n",
    "\n",
    "![image.png](attachment:image.png = 100 x 20)\n",
    "La linea que separa los 0's de los 1's está dada por:\n",
    "$$w_1  x_1 + w_2 x_2 + ... + w_n x_n + b = 0$$\n",
    "\n",
    "Se usa la función escalón, se clasifica reemplazando el punto $(x_1, x_2, ..., x_n)$ dentro de la ecuación:\n",
    "- Si dan valores mayores o iguales a 0, el punto es 1. \n",
    "- Si dan valores menores o iguales a 0, el punto es 0. \n",
    "\n",
    "\n",
    "\n",
    "Si un punto está mal clasificado, se arreglan los $w$ (weights) y el $b$ (bias) de la siguiente manera: \n",
    "- Si el punto que está mal clasificado es 0, se cambia cada $w_i$ por $w_i + \\alpha x_i$ y el $b$ por $b + \\alpha$\n",
    "siendo $\\alpha$ la tasa de aprendizaje (learning rate). \n",
    "- Si el punto que está mal clasificado es 1, se cambia cada $w_i$ por $w_i - \\alpha x_i$ y el $b$ por $b - \\alpha$\n",
    "siendo $\\alpha$ la tasa de aprendizaje (learning rate). "
   ]
  },
  {
   "cell_type": "code",
   "execution_count": 1,
   "id": "e620e1e0",
   "metadata": {},
   "outputs": [],
   "source": [
    "import numpy as np\n",
    "# Setting the random seed\n",
    "np.random.seed(42)"
   ]
  },
  {
   "cell_type": "code",
   "execution_count": 2,
   "id": "868ff771",
   "metadata": {},
   "outputs": [],
   "source": [
    "def stepFunction(t): #funcion escalon \n",
    "    if t >= 0:\n",
    "        return 1\n",
    "    return 0"
   ]
  },
  {
   "cell_type": "code",
   "execution_count": 3,
   "id": "0f19dd26",
   "metadata": {},
   "outputs": [],
   "source": [
    "def prediction(X, W, b):\n",
    "    return stepFunction((np.matmul(X,W)+b)[0])"
   ]
  },
  {
   "cell_type": "code",
   "execution_count": null,
   "id": "f993ffaa",
   "metadata": {},
   "outputs": [],
   "source": []
  }
 ],
 "metadata": {
  "kernelspec": {
   "display_name": "Python 3.8.5 64-bit ('base': conda)",
   "language": "python",
   "name": "python385jvsc74a57bd0a27e742e8e9b896f71f9e1d2abaf4cbd0a12501541bf3ac5fc0f06b12836fde1"
  },
  "language_info": {
   "codemirror_mode": {
    "name": "ipython",
    "version": 3
   },
   "file_extension": ".py",
   "mimetype": "text/x-python",
   "name": "python",
   "nbconvert_exporter": "python",
   "pygments_lexer": "ipython3",
   "version": "3.8.12"
  }
 },
 "nbformat": 4,
 "nbformat_minor": 5
}
