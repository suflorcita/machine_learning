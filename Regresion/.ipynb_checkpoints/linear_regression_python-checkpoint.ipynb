{
 "cells": [
  {
   "cell_type": "code",
   "execution_count": 65,
   "id": "2eb32982",
   "metadata": {},
   "outputs": [],
   "source": [
    "import matplotlib.pyplot as plt\n",
    "import numpy as np\n",
    "from sklearn import datasets, linear_model, model_selection"
   ]
  },
  {
   "cell_type": "code",
   "execution_count": 66,
   "id": "0e626b1e",
   "metadata": {
    "scrolled": true
   },
   "outputs": [
    {
     "name": "stdout",
     "output_type": "stream",
     "text": [
      "(442, 10)\n",
      "[ 0.03807591  0.05068012  0.06169621  0.02187235 -0.0442235  -0.03482076\n",
      " -0.04340085 -0.00259226  0.01990842 -0.01764613]\n"
     ]
    }
   ],
   "source": [
    "X, y = datasets.load_diabetes(return_X_y=True) \n",
    "#cargo el dataset de diabetes, que ya viene precargado en la biblioteca sklearn\n",
    "#asigno el primer valor de la tupla a X y el segundo valor a y\n",
    "print(X.shape) #tamaño de X\n",
    "print(X[0]) #primera fila "
   ]
  },
  {
   "cell_type": "markdown",
   "id": "bdd372d8",
   "metadata": {},
   "source": [
    "Información sobre el dataset en: https://scikit-learn.org/stable/datasets/toy_dataset.html#diabetes-dataset. \n",
    "Observar que todas las variables están normalizadas. "
   ]
  },
  {
   "cell_type": "code",
   "execution_count": 67,
   "id": "c2564f2c",
   "metadata": {},
   "outputs": [],
   "source": [
    "X = X[:, np.newaxis, 2] # si cambio esta linea puedo usar otras variables"
   ]
  },
  {
   "cell_type": "code",
   "execution_count": 68,
   "id": "7090b1c6",
   "metadata": {},
   "outputs": [
    {
     "data": {
      "text/plain": [
       "(442, 1)"
      ]
     },
     "execution_count": 68,
     "metadata": {},
     "output_type": "execute_result"
    }
   ],
   "source": [
    "X.shape"
   ]
  },
  {
   "cell_type": "code",
   "execution_count": 69,
   "id": "ee03b8a7",
   "metadata": {},
   "outputs": [],
   "source": [
    "X_train, X_test, y_train, y_test = model_selection.train_test_split(X, y, test_size=0.33)\n",
    "# divido entre los datos que entreno y los que testeo"
   ]
  },
  {
   "cell_type": "code",
   "execution_count": 70,
   "id": "62ef13e6",
   "metadata": {},
   "outputs": [
    {
     "data": {
      "text/plain": [
       "LinearRegression()"
      ]
     },
     "execution_count": 70,
     "metadata": {},
     "output_type": "execute_result"
    }
   ],
   "source": [
    "model = linear_model.LinearRegression() #creo un modelo de regresión lineal\n",
    "model.fit(X_train, y_train) #entreno con los datos de entrenamientos\n"
   ]
  },
  {
   "cell_type": "code",
   "execution_count": 71,
   "id": "acb97c87",
   "metadata": {},
   "outputs": [],
   "source": [
    "y_pred = model.predict(X_test)\n",
    "# predigo con los datos de testeo "
   ]
  },
  {
   "cell_type": "code",
   "execution_count": 72,
   "id": "cd0a480a",
   "metadata": {},
   "outputs": [
    {
     "data": {
      "image/png": "[encoded data removed]",
      "text/plain": [
       "<Figure size 432x288 with 1 Axes>"
      ]
     },
     "metadata": {
      "needs_background": "light"
     },
     "output_type": "display_data"
    }
   ],
   "source": [
    "plt.scatter(X_test, y_test,  color='black') # gráfico de dispersión\n",
    "plt.plot(X_test, y_pred, color='blue', linewidth=3) # grafico los datos de testeo vs la predicción en azúl\n",
    "plt.xlabel('Scaled BMIs') # título del eje x\n",
    "plt.ylabel('Disease Progression') #título del eje y\n",
    "plt.title('A Graph Plot Showing Diabetes Progression Against BMI') #título del gráfico\n",
    "plt.show()"
   ]
  },
  {
   "cell_type": "code",
   "execution_count": null,
   "id": "2c051bd3",
   "metadata": {},
   "outputs": [],
   "source": []
  }
 ],
 "metadata": {
  "kernelspec": {
   "display_name": "Python 3.8.5 64-bit ('base': conda)",
   "language": "python",
   "name": "python385jvsc74a57bd0a27e742e8e9b896f71f9e1d2abaf4cbd0a12501541bf3ac5fc0f06b12836fde1"
  },
  "language_info": {
   "codemirror_mode": {
    "name": "ipython",
    "version": 3
   },
   "file_extension": ".py",
   "mimetype": "text/x-python",
   "name": "python",
   "nbconvert_exporter": "python",
   "pygments_lexer": "ipython3",
   "version": "3.8.5"
  }
 },
 "nbformat": 4,
 "nbformat_minor": 5
}
