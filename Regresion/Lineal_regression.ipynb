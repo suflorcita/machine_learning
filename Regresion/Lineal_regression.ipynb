{
 "cells": [
  {
   "cell_type": "code",
   "execution_count": 1,
   "id": "35c1c8c7",
   "metadata": {},
   "outputs": [],
   "source": [
    "%matplotlib inline"
   ]
  },
  {
   "cell_type": "code",
   "execution_count": 171,
   "id": "93fddf39",
   "metadata": {},
   "outputs": [],
   "source": [
    "import matplotlib.pyplot as plt \n",
    "import numpy as np\n",
    "import pandas as pd\n",
    "from sklearn.linear_model import LinearRegression\n",
    "from sklearn.datasets import load_boston\n",
    "from sklearn.preprocessing import PolynomialFeatures\n",
    "from sklearn import linear_model"
   ]
  },
  {
   "cell_type": "code",
   "execution_count": 9,
   "id": "309022da",
   "metadata": {},
   "outputs": [],
   "source": [
    "x = np.arange(-10, 10, 0.1)"
   ]
  },
  {
   "cell_type": "code",
   "execution_count": 40,
   "id": "bdc6d84b",
   "metadata": {},
   "outputs": [
    {
     "data": {
      "text/plain": [
       "[<matplotlib.lines.Line2D at 0x7fd2303ef490>,\n",
       " <matplotlib.lines.Line2D at 0x7fd2303ef640>]"
      ]
     },
     "execution_count": 40,
     "metadata": {},
     "output_type": "execute_result"
    },
    {
     "data": {
      "image/png": "[encoded data removed]",
      "text/plain": [
       "<Figure size 432x288 with 1 Axes>"
      ]
     },
     "metadata": {
      "needs_background": "light"
     },
     "output_type": "display_data"
    }
   ],
   "source": [
    "plt.plot(x, 1.1*x+4.1, -5, 3, 'ro')"
   ]
  },
  {
   "cell_type": "code",
   "execution_count": 17,
   "id": "baa2610d",
   "metadata": {},
   "outputs": [],
   "source": [
    "plt.show()"
   ]
  },
  {
   "cell_type": "markdown",
   "id": "c818caed",
   "metadata": {},
   "source": [
    "## Mean absolute error\n",
    "#### Formula\n",
    "\n",
    "$Error = \\frac{1}{m} \\sum_{i=1}^{m} |y - y'|$\n",
    "\n",
    "#### Line \n",
    "\n",
    "$y = 1.2x + 2$\n",
    "\n",
    "#### Points\n",
    "\n",
    "$(2, -2), (5, 6), (-4, -4), (-7, 1), (8, 14)$"
   ]
  },
  {
   "cell_type": "code",
   "execution_count": 43,
   "id": "30e79a34",
   "metadata": {},
   "outputs": [],
   "source": [
    "def f(x): \n",
    "    return 1.2 * x + 2"
   ]
  },
  {
   "cell_type": "code",
   "execution_count": 56,
   "id": "d62c6e92",
   "metadata": {},
   "outputs": [],
   "source": [
    "points= [(2,-2), (5,6), (-4,-4), (-7,1), (8,14)]"
   ]
  },
  {
   "cell_type": "code",
   "execution_count": 57,
   "id": "bcf5aa7c",
   "metadata": {},
   "outputs": [
    {
     "name": "stdout",
     "output_type": "stream",
     "text": [
      "3.88\n"
     ]
    }
   ],
   "source": [
    "sum = 0\n",
    "for point in points: \n",
    "    y1 = point[1]\n",
    "    y2 = f(point[0])\n",
    "    sum += abs(y2 - y1)\n",
    "\n",
    "print(sum/len(points))"
   ]
  },
  {
   "cell_type": "markdown",
   "id": "9472b7e7",
   "metadata": {},
   "source": [
    "## Mean Squared error\n",
    "#### Formula\n",
    "\n",
    "$Error = \\frac{1}{2m} \\sum_{i=1}^{m} (y - y')²$\n",
    "#### Line \n",
    "\n",
    "$y = 1.2x + 2$\n",
    "\n",
    "#### Points\n",
    "\n",
    "$(2, -2), (5, 6), (-4, -4), (-7, 1), (8, 14)$"
   ]
  },
  {
   "cell_type": "code",
   "execution_count": 60,
   "id": "bf82ea7f",
   "metadata": {},
   "outputs": [
    {
     "name": "stdout",
     "output_type": "stream",
     "text": [
      "10.692000000000002\n"
     ]
    }
   ],
   "source": [
    "sum = 0\n",
    "for point in points: \n",
    "    y1 = point[1]\n",
    "    y2 = f(point[0])\n",
    "    sum += (y2 - y1)**2\n",
    "\n",
    "print(sum/(2*len(points)))"
   ]
  },
  {
   "cell_type": "markdown",
   "id": "da1309ef",
   "metadata": {},
   "source": [
    "# Linear Regression\n"
   ]
  },
  {
   "cell_type": "code",
   "execution_count": 68,
   "id": "3b64006b",
   "metadata": {},
   "outputs": [],
   "source": [
    "bmi_life_data = pd.read_csv('bmi_and_life_expectancy.csv')"
   ]
  },
  {
   "cell_type": "code",
   "execution_count": 69,
   "id": "481850b2",
   "metadata": {},
   "outputs": [
    {
     "data": {
      "text/html": [
       "<div>\n",
       "<style scoped>\n",
       "    .dataframe tbody tr th:only-of-type {\n",
       "        vertical-align: middle;\n",
       "    }\n",
       "\n",
       "    .dataframe tbody tr th {\n",
       "        vertical-align: top;\n",
       "    }\n",
       "\n",
       "    .dataframe thead th {\n",
       "        text-align: right;\n",
       "    }\n",
       "</style>\n",
       "<table border=\"1\" class=\"dataframe\">\n",
       "  <thead>\n",
       "    <tr style=\"text-align: right;\">\n",
       "      <th></th>\n",
       "      <th>Country</th>\n",
       "      <th>Life expectancy</th>\n",
       "      <th>BMI</th>\n",
       "    </tr>\n",
       "  </thead>\n",
       "  <tbody>\n",
       "    <tr>\n",
       "      <th>0</th>\n",
       "      <td>Afghanistan</td>\n",
       "      <td>52.8</td>\n",
       "      <td>20.62058</td>\n",
       "    </tr>\n",
       "    <tr>\n",
       "      <th>1</th>\n",
       "      <td>Albania</td>\n",
       "      <td>76.8</td>\n",
       "      <td>26.44657</td>\n",
       "    </tr>\n",
       "    <tr>\n",
       "      <th>2</th>\n",
       "      <td>Algeria</td>\n",
       "      <td>75.5</td>\n",
       "      <td>24.59620</td>\n",
       "    </tr>\n",
       "    <tr>\n",
       "      <th>3</th>\n",
       "      <td>Andorra</td>\n",
       "      <td>84.6</td>\n",
       "      <td>27.63048</td>\n",
       "    </tr>\n",
       "    <tr>\n",
       "      <th>4</th>\n",
       "      <td>Angola</td>\n",
       "      <td>56.7</td>\n",
       "      <td>22.25083</td>\n",
       "    </tr>\n",
       "    <tr>\n",
       "      <th>...</th>\n",
       "      <td>...</td>\n",
       "      <td>...</td>\n",
       "      <td>...</td>\n",
       "    </tr>\n",
       "    <tr>\n",
       "      <th>158</th>\n",
       "      <td>Vanuatu</td>\n",
       "      <td>63.4</td>\n",
       "      <td>26.78926</td>\n",
       "    </tr>\n",
       "    <tr>\n",
       "      <th>159</th>\n",
       "      <td>West Bank and Gaza</td>\n",
       "      <td>74.1</td>\n",
       "      <td>26.57750</td>\n",
       "    </tr>\n",
       "    <tr>\n",
       "      <th>160</th>\n",
       "      <td>Vietnam</td>\n",
       "      <td>74.1</td>\n",
       "      <td>20.91630</td>\n",
       "    </tr>\n",
       "    <tr>\n",
       "      <th>161</th>\n",
       "      <td>Zambia</td>\n",
       "      <td>51.1</td>\n",
       "      <td>20.68321</td>\n",
       "    </tr>\n",
       "    <tr>\n",
       "      <th>162</th>\n",
       "      <td>Zimbabwe</td>\n",
       "      <td>47.3</td>\n",
       "      <td>22.02660</td>\n",
       "    </tr>\n",
       "  </tbody>\n",
       "</table>\n",
       "<p>163 rows × 3 columns</p>\n",
       "</div>"
      ],
      "text/plain": [
       "                Country  Life expectancy       BMI\n",
       "0           Afghanistan             52.8  20.62058\n",
       "1               Albania             76.8  26.44657\n",
       "2               Algeria             75.5  24.59620\n",
       "3               Andorra             84.6  27.63048\n",
       "4                Angola             56.7  22.25083\n",
       "..                  ...              ...       ...\n",
       "158             Vanuatu             63.4  26.78926\n",
       "159  West Bank and Gaza             74.1  26.57750\n",
       "160             Vietnam             74.1  20.91630\n",
       "161              Zambia             51.1  20.68321\n",
       "162            Zimbabwe             47.3  22.02660\n",
       "\n",
       "[163 rows x 3 columns]"
      ]
     },
     "execution_count": 69,
     "metadata": {},
     "output_type": "execute_result"
    }
   ],
   "source": [
    "bmi_life_data"
   ]
  },
  {
   "cell_type": "code",
   "execution_count": 110,
   "id": "f57e9f0a",
   "metadata": {},
   "outputs": [],
   "source": [
    "BMI = np.array(bmi_life_data[\"BMI\"]).reshape((-1, 1))\n",
    "Life_expectancy= np.array(bmi_life_data['Life expectancy'])\n",
    "# print(Life_expectancy)"
   ]
  },
  {
   "cell_type": "code",
   "execution_count": 107,
   "id": "3356c92b",
   "metadata": {},
   "outputs": [],
   "source": [
    "bmi_life_model = LinearRegression().fit(BMI, Life_expectancy)"
   ]
  },
  {
   "cell_type": "code",
   "execution_count": 111,
   "id": "24a4e81f",
   "metadata": {},
   "outputs": [
    {
     "data": {
      "text/plain": [
       "array([15.85138014])"
      ]
     },
     "execution_count": 111,
     "metadata": {},
     "output_type": "execute_result"
    }
   ],
   "source": [
    "bmi_life_model.predict([[21.07931 ]])"
   ]
  },
  {
   "cell_type": "markdown",
   "id": "493c40ad",
   "metadata": {},
   "source": [
    "# Multiple Linear Regression"
   ]
  },
  {
   "cell_type": "code",
   "execution_count": 115,
   "id": "14aa9e59",
   "metadata": {},
   "outputs": [],
   "source": [
    "boston_data = load_boston()\n",
    "x = boston_data['data']\n",
    "y = boston_data['target']\n"
   ]
  },
  {
   "cell_type": "code",
   "execution_count": 116,
   "id": "4b92e5a5",
   "metadata": {},
   "outputs": [],
   "source": [
    "model = LinearRegression().fit(x, y)"
   ]
  },
  {
   "cell_type": "code",
   "execution_count": 117,
   "id": "22e7c25f",
   "metadata": {},
   "outputs": [],
   "source": [
    "sample_house = [[2.29690000e-01, 0.00000000e+00, 1.05900000e+01, 0.00000000e+00, 4.89000000e-01,\n",
    "                6.32600000e+00, 5.25000000e+01, 4.35490000e+00, 4.00000000e+00, 2.77000000e+02,\n",
    "                1.86000000e+01, 3.94870000e+02, 1.09700000e+01]]"
   ]
  },
  {
   "cell_type": "code",
   "execution_count": 118,
   "id": "a1cc7496",
   "metadata": {},
   "outputs": [],
   "source": [
    "prediction = model.predict(sample_house)"
   ]
  },
  {
   "cell_type": "markdown",
   "id": "36fbaef8",
   "metadata": {},
   "source": [
    "# Polynomial Regression"
   ]
  },
  {
   "cell_type": "code",
   "execution_count": 126,
   "id": "31c45213",
   "metadata": {},
   "outputs": [],
   "source": [
    "train_data = pd.read_csv(\"data.csv\")"
   ]
  },
  {
   "cell_type": "code",
   "execution_count": 133,
   "id": "c68756ce",
   "metadata": {},
   "outputs": [],
   "source": [
    "x = np.array(train_data['Var_X'])\n",
    "y = np.array(train_data['Var_Y'])"
   ]
  },
  {
   "cell_type": "code",
   "execution_count": 138,
   "id": "4fc82701",
   "metadata": {},
   "outputs": [
    {
     "data": {
      "text/plain": [
       "[<matplotlib.lines.Line2D at 0x7fd226a6fe80>]"
      ]
     },
     "execution_count": 138,
     "metadata": {},
     "output_type": "execute_result"
    },
    {
     "data": {
      "image/png": "[encoded data removed]",
      "text/plain": [
       "<Figure size 432x288 with 1 Axes>"
      ]
     },
     "metadata": {
      "needs_background": "light"
     },
     "output_type": "display_data"
    }
   ],
   "source": [
    "plt.plot(x,y, '*')"
   ]
  },
  {
   "cell_type": "code",
   "execution_count": 135,
   "id": "ee39dcb5",
   "metadata": {},
   "outputs": [],
   "source": [
    "x = np.array(train_data['Var_X']).reshape(-1, 1)"
   ]
  },
  {
   "cell_type": "code",
   "execution_count": 136,
   "id": "847e6503",
   "metadata": {},
   "outputs": [],
   "source": [
    "poly_feat = PolynomialFeatures(3)\n",
    "X_poly = poly_feat.fit_transform(x)"
   ]
  },
  {
   "cell_type": "code",
   "execution_count": 149,
   "id": "8cb2e425",
   "metadata": {},
   "outputs": [],
   "source": [
    "poly_model = LinearRegression(fit_intercept=False).fit(X_poly,Y)"
   ]
  },
  {
   "cell_type": "markdown",
   "id": "a3b15e35",
   "metadata": {},
   "source": [
    "# Regularization"
   ]
  },
  {
   "cell_type": "code",
   "execution_count": 189,
   "id": "9184dfcd",
   "metadata": {},
   "outputs": [
    {
     "data": {
      "text/html": [
       "<div>\n",
       "<style scoped>\n",
       "    .dataframe tbody tr th:only-of-type {\n",
       "        vertical-align: middle;\n",
       "    }\n",
       "\n",
       "    .dataframe tbody tr th {\n",
       "        vertical-align: top;\n",
       "    }\n",
       "\n",
       "    .dataframe thead th {\n",
       "        text-align: right;\n",
       "    }\n",
       "</style>\n",
       "<table border=\"1\" class=\"dataframe\">\n",
       "  <thead>\n",
       "    <tr style=\"text-align: right;\">\n",
       "      <th></th>\n",
       "      <th>0</th>\n",
       "      <th>1</th>\n",
       "      <th>2</th>\n",
       "      <th>3</th>\n",
       "      <th>4</th>\n",
       "      <th>5</th>\n",
       "      <th>6</th>\n",
       "    </tr>\n",
       "  </thead>\n",
       "  <tbody>\n",
       "    <tr>\n",
       "      <th>0</th>\n",
       "      <td>1.25664</td>\n",
       "      <td>2.04978</td>\n",
       "      <td>-6.23640</td>\n",
       "      <td>4.71926</td>\n",
       "      <td>-4.26931</td>\n",
       "      <td>0.20590</td>\n",
       "      <td>12.31798</td>\n",
       "    </tr>\n",
       "    <tr>\n",
       "      <th>1</th>\n",
       "      <td>-3.89012</td>\n",
       "      <td>-0.37511</td>\n",
       "      <td>6.14979</td>\n",
       "      <td>4.94585</td>\n",
       "      <td>-3.57844</td>\n",
       "      <td>0.00640</td>\n",
       "      <td>23.67628</td>\n",
       "    </tr>\n",
       "    <tr>\n",
       "      <th>2</th>\n",
       "      <td>5.09784</td>\n",
       "      <td>0.98120</td>\n",
       "      <td>-0.29939</td>\n",
       "      <td>5.85805</td>\n",
       "      <td>0.28297</td>\n",
       "      <td>-0.20626</td>\n",
       "      <td>-1.53459</td>\n",
       "    </tr>\n",
       "    <tr>\n",
       "      <th>3</th>\n",
       "      <td>0.39034</td>\n",
       "      <td>-3.06861</td>\n",
       "      <td>-5.63488</td>\n",
       "      <td>6.43941</td>\n",
       "      <td>0.39256</td>\n",
       "      <td>-0.07084</td>\n",
       "      <td>-24.68670</td>\n",
       "    </tr>\n",
       "    <tr>\n",
       "      <th>4</th>\n",
       "      <td>5.84727</td>\n",
       "      <td>-0.15922</td>\n",
       "      <td>11.41246</td>\n",
       "      <td>7.52165</td>\n",
       "      <td>1.69886</td>\n",
       "      <td>0.29022</td>\n",
       "      <td>17.54122</td>\n",
       "    </tr>\n",
       "    <tr>\n",
       "      <th>...</th>\n",
       "      <td>...</td>\n",
       "      <td>...</td>\n",
       "      <td>...</td>\n",
       "      <td>...</td>\n",
       "      <td>...</td>\n",
       "      <td>...</td>\n",
       "      <td>...</td>\n",
       "    </tr>\n",
       "    <tr>\n",
       "      <th>95</th>\n",
       "      <td>-4.58240</td>\n",
       "      <td>-1.27825</td>\n",
       "      <td>7.55098</td>\n",
       "      <td>8.83930</td>\n",
       "      <td>-3.80318</td>\n",
       "      <td>0.04386</td>\n",
       "      <td>26.14768</td>\n",
       "    </tr>\n",
       "    <tr>\n",
       "      <th>96</th>\n",
       "      <td>-10.00364</td>\n",
       "      <td>2.66002</td>\n",
       "      <td>-4.26776</td>\n",
       "      <td>-3.73792</td>\n",
       "      <td>-0.72349</td>\n",
       "      <td>-0.24617</td>\n",
       "      <td>0.76214</td>\n",
       "    </tr>\n",
       "    <tr>\n",
       "      <th>97</th>\n",
       "      <td>-4.32624</td>\n",
       "      <td>-2.30314</td>\n",
       "      <td>-8.16044</td>\n",
       "      <td>4.46366</td>\n",
       "      <td>-3.33569</td>\n",
       "      <td>-0.01655</td>\n",
       "      <td>-10.05262</td>\n",
       "    </tr>\n",
       "    <tr>\n",
       "      <th>98</th>\n",
       "      <td>-1.90167</td>\n",
       "      <td>-0.15858</td>\n",
       "      <td>-10.43466</td>\n",
       "      <td>4.89762</td>\n",
       "      <td>-0.64606</td>\n",
       "      <td>-0.14519</td>\n",
       "      <td>-19.63970</td>\n",
       "    </tr>\n",
       "    <tr>\n",
       "      <th>99</th>\n",
       "      <td>2.43213</td>\n",
       "      <td>2.41613</td>\n",
       "      <td>2.49949</td>\n",
       "      <td>-8.03891</td>\n",
       "      <td>-1.64164</td>\n",
       "      <td>-0.63444</td>\n",
       "      <td>12.76193</td>\n",
       "    </tr>\n",
       "  </tbody>\n",
       "</table>\n",
       "<p>100 rows × 7 columns</p>\n",
       "</div>"
      ],
      "text/plain": [
       "           0        1         2        3        4        5         6\n",
       "0    1.25664  2.04978  -6.23640  4.71926 -4.26931  0.20590  12.31798\n",
       "1   -3.89012 -0.37511   6.14979  4.94585 -3.57844  0.00640  23.67628\n",
       "2    5.09784  0.98120  -0.29939  5.85805  0.28297 -0.20626  -1.53459\n",
       "3    0.39034 -3.06861  -5.63488  6.43941  0.39256 -0.07084 -24.68670\n",
       "4    5.84727 -0.15922  11.41246  7.52165  1.69886  0.29022  17.54122\n",
       "..       ...      ...       ...      ...      ...      ...       ...\n",
       "95  -4.58240 -1.27825   7.55098  8.83930 -3.80318  0.04386  26.14768\n",
       "96 -10.00364  2.66002  -4.26776 -3.73792 -0.72349 -0.24617   0.76214\n",
       "97  -4.32624 -2.30314  -8.16044  4.46366 -3.33569 -0.01655 -10.05262\n",
       "98  -1.90167 -0.15858 -10.43466  4.89762 -0.64606 -0.14519 -19.63970\n",
       "99   2.43213  2.41613   2.49949 -8.03891 -1.64164 -0.63444  12.76193\n",
       "\n",
       "[100 rows x 7 columns]"
      ]
     },
     "execution_count": 189,
     "metadata": {},
     "output_type": "execute_result"
    }
   ],
   "source": [
    "train_data = pd.read_csv('data2.csv',header=None)\n",
    "train_data"
   ]
  },
  {
   "cell_type": "code",
   "execution_count": 185,
   "id": "de386666",
   "metadata": {},
   "outputs": [],
   "source": [
    "X = train_data.iloc[:, [i for i in range(0,6)]].values\n",
    "y = train_data.iloc[:, [6]].values"
   ]
  },
  {
   "cell_type": "code",
   "execution_count": 186,
   "id": "04e33148",
   "metadata": {},
   "outputs": [],
   "source": [
    "lasso_reg = linear_model.Lasso().fit(X,y)"
   ]
  },
  {
   "cell_type": "code",
   "execution_count": 187,
   "id": "4495743f",
   "metadata": {},
   "outputs": [
    {
     "data": {
      "text/plain": [
       "array([ 0.        ,  2.33659619,  2.0140086 , -0.05753445, -3.91583673,\n",
       "        0.        ])"
      ]
     },
     "execution_count": 187,
     "metadata": {},
     "output_type": "execute_result"
    }
   ],
   "source": [
    "lasso_reg.coef_"
   ]
  },
  {
   "cell_type": "code",
   "execution_count": null,
   "id": "5004178d",
   "metadata": {},
   "outputs": [],
   "source": []
  }
 ],
 "metadata": {
  "kernelspec": {
   "display_name": "Python 3.8.5 64-bit ('base': conda)",
   "language": "python",
   "name": "python385jvsc74a57bd0a27e742e8e9b896f71f9e1d2abaf4cbd0a12501541bf3ac5fc0f06b12836fde1"
  },
  "language_info": {
   "codemirror_mode": {
    "name": "ipython",
    "version": 3
   },
   "file_extension": ".py",
   "mimetype": "text/x-python",
   "name": "python",
   "nbconvert_exporter": "python",
   "pygments_lexer": "ipython3",
   "version": "3.8.12"
  }
 },
 "nbformat": 4,
 "nbformat_minor": 5
}
