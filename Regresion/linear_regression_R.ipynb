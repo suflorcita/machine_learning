{
 "cells": [
  {
   "cell_type": "markdown",
   "id": "6074d17b",
   "metadata": {},
   "source": [
    "Las librerías que se usan en R son: \n",
    "- tidyverse: se usa para DS\n",
    "- tidymodels: se usa para ML "
   ]
  },
  {
   "cell_type": "code",
   "execution_count": 3,
   "id": "5d398c96",
   "metadata": {},
   "outputs": [],
   "source": [
    "##install.packages(c(\"tidyverse\", \"tidymodels\"))"
   ]
  },
  {
   "cell_type": "code",
   "execution_count": 4,
   "id": "cd23afd4",
   "metadata": {},
   "outputs": [
    {
     "name": "stderr",
     "output_type": "stream",
     "text": [
      "Loading required package: pacman\n",
      "\n"
     ]
    }
   ],
   "source": [
    "suppressWarnings(if(!require(\"pacman\")) install.packages(\"pacman\"))\n",
    "pacman::p_load(tidyverse, tidymodels) #chequea si están los packages instalados"
   ]
  },
  {
   "cell_type": "code",
   "execution_count": 9,
   "id": "fbaeaa28",
   "metadata": {},
   "outputs": [
    {
     "name": "stderr",
     "output_type": "stream",
     "text": [
      "\n",
      "\u001b[36m──\u001b[39m \u001b[1mColumn specification\u001b[22m \u001b[36m────────────────────────────────────────────────────────\u001b[39m\n",
      "cols(\n",
      "  age = \u001b[32mcol_double()\u001b[39m,\n",
      "  sex = \u001b[32mcol_double()\u001b[39m,\n",
      "  bmi = \u001b[32mcol_double()\u001b[39m,\n",
      "  map = \u001b[32mcol_double()\u001b[39m,\n",
      "  tc = \u001b[32mcol_double()\u001b[39m,\n",
      "  ldl = \u001b[32mcol_double()\u001b[39m,\n",
      "  hdl = \u001b[32mcol_double()\u001b[39m,\n",
      "  tch = \u001b[32mcol_double()\u001b[39m,\n",
      "  ltg = \u001b[32mcol_double()\u001b[39m,\n",
      "  glu = \u001b[32mcol_double()\u001b[39m,\n",
      "  y = \u001b[32mcol_double()\u001b[39m\n",
      ")\n",
      "\n",
      "\n"
     ]
    },
    {
     "name": "stdout",
     "output_type": "stream",
     "text": [
      "Rows: 442\n",
      "Columns: 11\n",
      "$ age \u001b[3m\u001b[90m<dbl>\u001b[39m\u001b[23m 0.038075906, -0.001882017, 0.085298906, -0.089062939, 0.005383060,…\n",
      "$ sex \u001b[3m\u001b[90m<dbl>\u001b[39m\u001b[23m 0.05068012, -0.04464164, 0.05068012, -0.04464164, -0.04464164, -0.…\n",
      "$ bmi \u001b[3m\u001b[90m<dbl>\u001b[39m\u001b[23m 0.061696207, -0.051474061, 0.044451213, -0.011595015, -0.036384692…\n",
      "$ map \u001b[3m\u001b[90m<dbl>\u001b[39m\u001b[23m 0.021872355, -0.026327835, -0.005670611, -0.036656447, 0.021872355…\n",
      "$ tc  \u001b[3m\u001b[90m<dbl>\u001b[39m\u001b[23m -0.044223498, -0.008448724, -0.045599451, 0.012190569, 0.003934852…\n",
      "$ ldl \u001b[3m\u001b[90m<dbl>\u001b[39m\u001b[23m -3.482076e-02, -1.916334e-02, -3.419447e-02, 2.499059e-02, 1.55961…\n",
      "$ hdl \u001b[3m\u001b[90m<dbl>\u001b[39m\u001b[23m -0.043400846, 0.074411564, -0.032355932, -0.036037570, 0.008142084…\n",
      "$ tch \u001b[3m\u001b[90m<dbl>\u001b[39m\u001b[23m -0.002592262, -0.039493383, -0.002592262, 0.034308859, -0.00259226…\n",
      "$ ltg \u001b[3m\u001b[90m<dbl>\u001b[39m\u001b[23m 0.019908421, -0.068329744, 0.002863771, 0.022692023, -0.031991445,…\n",
      "$ glu \u001b[3m\u001b[90m<dbl>\u001b[39m\u001b[23m -0.017646125, -0.092204050, -0.025930339, -0.009361911, -0.0466408…\n",
      "$ y   \u001b[3m\u001b[90m<dbl>\u001b[39m\u001b[23m 151, 75, 141, 206, 135, 97, 138, 63, 110, 310, 101, 69, 179, 185, …\n"
     ]
    },
    {
     "data": {
      "text/html": [
       "<table class=\"dataframe\">\n",
       "<caption>A spec_tbl_df: 5 × 11</caption>\n",
       "<thead>\n",
       "\t<tr><th scope=col>age</th><th scope=col>sex</th><th scope=col>bmi</th><th scope=col>map</th><th scope=col>tc</th><th scope=col>ldl</th><th scope=col>hdl</th><th scope=col>tch</th><th scope=col>ltg</th><th scope=col>glu</th><th scope=col>y</th></tr>\n",
       "\t<tr><th scope=col>&lt;dbl&gt;</th><th scope=col>&lt;dbl&gt;</th><th scope=col>&lt;dbl&gt;</th><th scope=col>&lt;dbl&gt;</th><th scope=col>&lt;dbl&gt;</th><th scope=col>&lt;dbl&gt;</th><th scope=col>&lt;dbl&gt;</th><th scope=col>&lt;dbl&gt;</th><th scope=col>&lt;dbl&gt;</th><th scope=col>&lt;dbl&gt;</th><th scope=col>&lt;dbl&gt;</th></tr>\n",
       "</thead>\n",
       "<tbody>\n",
       "\t<tr><td> 0.038075906</td><td> 0.05068012</td><td> 0.06169621</td><td> 0.021872355</td><td>-0.044223498</td><td>-0.03482076</td><td>-0.043400846</td><td>-0.002592262</td><td> 0.019908421</td><td>-0.017646125</td><td>151</td></tr>\n",
       "\t<tr><td>-0.001882017</td><td>-0.04464164</td><td>-0.05147406</td><td>-0.026327835</td><td>-0.008448724</td><td>-0.01916334</td><td> 0.074411564</td><td>-0.039493383</td><td>-0.068329744</td><td>-0.092204050</td><td> 75</td></tr>\n",
       "\t<tr><td> 0.085298906</td><td> 0.05068012</td><td> 0.04445121</td><td>-0.005670611</td><td>-0.045599451</td><td>-0.03419447</td><td>-0.032355932</td><td>-0.002592262</td><td> 0.002863771</td><td>-0.025930339</td><td>141</td></tr>\n",
       "\t<tr><td>-0.089062939</td><td>-0.04464164</td><td>-0.01159501</td><td>-0.036656447</td><td> 0.012190569</td><td> 0.02499059</td><td>-0.036037570</td><td> 0.034308859</td><td> 0.022692023</td><td>-0.009361911</td><td>206</td></tr>\n",
       "\t<tr><td> 0.005383060</td><td>-0.04464164</td><td>-0.03638469</td><td> 0.021872355</td><td> 0.003934852</td><td> 0.01559614</td><td> 0.008142084</td><td>-0.002592262</td><td>-0.031991445</td><td>-0.046640874</td><td>135</td></tr>\n",
       "</tbody>\n",
       "</table>\n"
      ],
      "text/latex": [
       "A spec\\_tbl\\_df: 5 × 11\n",
       "\\begin{tabular}{lllllllllll}\n",
       " age & sex & bmi & map & tc & ldl & hdl & tch & ltg & glu & y\\\\\n",
       " <dbl> & <dbl> & <dbl> & <dbl> & <dbl> & <dbl> & <dbl> & <dbl> & <dbl> & <dbl> & <dbl>\\\\\n",
       "\\hline\n",
       "\t  0.038075906 &  0.05068012 &  0.06169621 &  0.021872355 & -0.044223498 & -0.03482076 & -0.043400846 & -0.002592262 &  0.019908421 & -0.017646125 & 151\\\\\n",
       "\t -0.001882017 & -0.04464164 & -0.05147406 & -0.026327835 & -0.008448724 & -0.01916334 &  0.074411564 & -0.039493383 & -0.068329744 & -0.092204050 &  75\\\\\n",
       "\t  0.085298906 &  0.05068012 &  0.04445121 & -0.005670611 & -0.045599451 & -0.03419447 & -0.032355932 & -0.002592262 &  0.002863771 & -0.025930339 & 141\\\\\n",
       "\t -0.089062939 & -0.04464164 & -0.01159501 & -0.036656447 &  0.012190569 &  0.02499059 & -0.036037570 &  0.034308859 &  0.022692023 & -0.009361911 & 206\\\\\n",
       "\t  0.005383060 & -0.04464164 & -0.03638469 &  0.021872355 &  0.003934852 &  0.01559614 &  0.008142084 & -0.002592262 & -0.031991445 & -0.046640874 & 135\\\\\n",
       "\\end{tabular}\n"
      ],
      "text/markdown": [
       "\n",
       "A spec_tbl_df: 5 × 11\n",
       "\n",
       "| age &lt;dbl&gt; | sex &lt;dbl&gt; | bmi &lt;dbl&gt; | map &lt;dbl&gt; | tc &lt;dbl&gt; | ldl &lt;dbl&gt; | hdl &lt;dbl&gt; | tch &lt;dbl&gt; | ltg &lt;dbl&gt; | glu &lt;dbl&gt; | y &lt;dbl&gt; |\n",
       "|---|---|---|---|---|---|---|---|---|---|---|\n",
       "|  0.038075906 |  0.05068012 |  0.06169621 |  0.021872355 | -0.044223498 | -0.03482076 | -0.043400846 | -0.002592262 |  0.019908421 | -0.017646125 | 151 |\n",
       "| -0.001882017 | -0.04464164 | -0.05147406 | -0.026327835 | -0.008448724 | -0.01916334 |  0.074411564 | -0.039493383 | -0.068329744 | -0.092204050 |  75 |\n",
       "|  0.085298906 |  0.05068012 |  0.04445121 | -0.005670611 | -0.045599451 | -0.03419447 | -0.032355932 | -0.002592262 |  0.002863771 | -0.025930339 | 141 |\n",
       "| -0.089062939 | -0.04464164 | -0.01159501 | -0.036656447 |  0.012190569 |  0.02499059 | -0.036037570 |  0.034308859 |  0.022692023 | -0.009361911 | 206 |\n",
       "|  0.005383060 | -0.04464164 | -0.03638469 |  0.021872355 |  0.003934852 |  0.01559614 |  0.008142084 | -0.002592262 | -0.031991445 | -0.046640874 | 135 |\n",
       "\n"
      ],
      "text/plain": [
       "  age          sex         bmi         map          tc           ldl        \n",
       "1  0.038075906  0.05068012  0.06169621  0.021872355 -0.044223498 -0.03482076\n",
       "2 -0.001882017 -0.04464164 -0.05147406 -0.026327835 -0.008448724 -0.01916334\n",
       "3  0.085298906  0.05068012  0.04445121 -0.005670611 -0.045599451 -0.03419447\n",
       "4 -0.089062939 -0.04464164 -0.01159501 -0.036656447  0.012190569  0.02499059\n",
       "5  0.005383060 -0.04464164 -0.03638469  0.021872355  0.003934852  0.01559614\n",
       "  hdl          tch          ltg          glu          y  \n",
       "1 -0.043400846 -0.002592262  0.019908421 -0.017646125 151\n",
       "2  0.074411564 -0.039493383 -0.068329744 -0.092204050  75\n",
       "3 -0.032355932 -0.002592262  0.002863771 -0.025930339 141\n",
       "4 -0.036037570  0.034308859  0.022692023 -0.009361911 206\n",
       "5  0.008142084 -0.002592262 -0.031991445 -0.046640874 135"
      ]
     },
     "metadata": {},
     "output_type": "display_data"
    }
   ],
   "source": [
    "#Import el dataset\n",
    "diabetes <- read_table(file = \"https://www4.stat.ncsu.edu/~boos/var.select/diabetes.rwrite1.txt\")\n",
    "\n",
    "\n",
    "# Get a glimpse and dimensions of the data\n",
    "glimpse(diabetes)\n",
    "\n",
    "\n",
    "# Select the first 5 rows of the data\n",
    "diabetes %>% \n",
    "  slice(1:5)\n"
   ]
  },
  {
   "cell_type": "code",
   "execution_count": null,
   "id": "ffd4b729",
   "metadata": {},
   "outputs": [],
   "source": []
  }
 ],
 "metadata": {
  "kernelspec": {
   "display_name": "R",
   "language": "R",
   "name": "ir"
  },
  "language_info": {
   "codemirror_mode": "r",
   "file_extension": ".r",
   "mimetype": "text/x-r-source",
   "name": "R",
   "pygments_lexer": "r",
   "version": "4.1.1"
  }
 },
 "nbformat": 4,
 "nbformat_minor": 5
}
